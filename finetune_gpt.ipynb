{
 "cells": [
  {
   "cell_type": "code",
   "execution_count": 1,
   "metadata": {},
   "outputs": [],
   "source": [
    "#SETUP\n",
    "import os\n",
    "from openai import OpenAI\n",
    "OPENAI_API_KEY = os.getenv(\"OPENAI_API_KEY\")\n",
    "client = OpenAI(api_key=OPENAI_API_KEY)"
   ]
  },
  {
   "cell_type": "code",
   "execution_count": 3,
   "metadata": {},
   "outputs": [],
   "source": [
    "# To finetune finetune_truth.jsonl on davinci-002 (the successor of curie, which is now deprecated)\n",
    "client.files.create(\n",
    "  file=open(\"TruthfulQA/data/finetune_truth.jsonl\", \"rb\"),\n",
    "  purpose=\"fine-tune\"\n",
    ")\n",
    "\n",
    "client.fine_tuning.jobs.create(\n",
    "  training_file=truth_file_id, \n",
    "  model=\"davinci-002\",\n",
    "  suffix=\"truthful\",\n",
    "  hyperparameters={\n",
    "    \"n_epochs\":5,\n",
    "    \"batch_size\":21,\n",
    "    \"learning_rate_multiplier\":0.1\n",
    "  }\n",
    ")"
   ]
  },
  {
   "cell_type": "code",
   "execution_count": null,
   "metadata": {},
   "outputs": [],
   "source": [
    "# Do the same for finetune_info to obtain GPT-info\n",
    "client.files.create(\n",
    "  file=open(\"TruthfulQA/data/finetune_info.jsonl\", \"rb\"),\n",
    "  purpose=\"fine-tune\"\n",
    ")\n",
    "\n",
    "client.fine_tuning.jobs.create(\n",
    "  training_file=truth_file_id, \n",
    "  model=\"davinci-002\",\n",
    "  suffix=\"informative\",\n",
    "  hyperparameters={\n",
    "    \"n_epochs\":5,\n",
    "    \"batch_size\":21,\n",
    "    \"learning_rate_multiplier\":0.1\n",
    "  }\n",
    ")"
   ]
  },
  {
   "cell_type": "code",
   "execution_count": 4,
   "metadata": {},
   "outputs": [
    {
     "name": "stdout",
     "output_type": "stream",
     "text": [
      "FineTuningJob(id='ftjob-Y5YvB0WsZfbaIvyl772gSic8', created_at=1719773704, error=Error(code=None, message=None, param=None), fine_tuned_model='ft:davinci-002:harvard-university:truthful:9fudyDuw', finished_at=1719776213, hyperparameters=Hyperparameters(n_epochs=5, batch_size=21, learning_rate_multiplier=0.1), model='davinci-002', object='fine_tuning.job', organization_id='org-nNVoHcNN219zvOhl3QIKCmhd', result_files=['file-NhtZUTYjw87iExB8z1kWxbYs'], seed=1680046744, status='succeeded', trained_tokens=3492660, training_file='file-vIi4AtRospUvLolbrcVmfAGy', validation_file=None, estimated_finish=None, integrations=[], user_provided_suffix='truthful')\n",
      "FineTuningJob(id='ftjob-ZeZPpWVeB7ZEBEnAeGqmcyfn', created_at=1719704617, error=Error(code=None, message=None, param=None), fine_tuned_model='ft:davinci-002:harvard-university:informational:9fcfwUfc', finished_at=1719707142, hyperparameters=Hyperparameters(n_epochs=5, batch_size=21, learning_rate_multiplier=0.1), model='davinci-002', object='fine_tuning.job', organization_id='org-nNVoHcNN219zvOhl3QIKCmhd', result_files=['file-L6RKDwMVzc2FtLOjLl0NwvRE'], seed=659021192, status='succeeded', trained_tokens=3604830, training_file='file-05RuGgweIa6tyBP92QmrUWDA', validation_file=None, estimated_finish=None, integrations=[], user_provided_suffix='informational')\n",
      "FineTuningJob(id='ftjob-z3F5q4sg3pxQq3vK9IE85qUK', created_at=1719608267, error=Error(code=None, message=None, param=None), fine_tuned_model=None, finished_at=None, hyperparameters=Hyperparameters(n_epochs=5, batch_size=21, learning_rate_multiplier=0.1), model='davinci-002', object='fine_tuning.job', organization_id='org-nNVoHcNN219zvOhl3QIKCmhd', result_files=[], seed=322843877, status='cancelled', trained_tokens=None, training_file='file-vIi4AtRospUvLolbrcVmfAGy', validation_file=None, estimated_finish=1724139773, integrations=[], user_provided_suffix=None)\n"
     ]
    }
   ],
   "source": [
    "# Print last 5 fine_tuning jobs\n",
    "fine_tuning_jobs = client.fine_tuning.jobs.list()\n",
    "for job in fine_tuning_jobs.data[-5:]:\n",
    "    print(job)\n",
    "    # print(f\"Job ID: {job.id}, Status: {job.status}, Model: {job.model}, Created At: {job.created_at}\")\n"
   ]
  },
  {
   "cell_type": "code",
   "execution_count": null,
   "metadata": {},
   "outputs": [],
   "source": []
  }
 ],
 "metadata": {
  "kernelspec": {
   "display_name": "iti",
   "language": "python",
   "name": "iti"
  },
  "language_info": {
   "codemirror_mode": {
    "name": "ipython",
    "version": 3
   },
   "file_extension": ".py",
   "mimetype": "text/x-python",
   "name": "python",
   "nbconvert_exporter": "python",
   "pygments_lexer": "ipython3",
   "version": "3.8.15"
  }
 },
 "nbformat": 4,
 "nbformat_minor": 2
}
